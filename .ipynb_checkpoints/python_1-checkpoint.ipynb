{
 "cells": [
  {
   "cell_type": "code",
   "execution_count": 1,
   "id": "ddf60802",
   "metadata": {},
   "outputs": [
    {
     "name": "stdout",
     "output_type": "stream",
     "text": [
      "enter t1: 14\n",
      "enter t2: 25\n",
      "11.0celcius: temperature is too high\n"
     ]
    }
   ],
   "source": [
    "t1 = float(input(\"enter t1: \"))\n",
    "t2 = float(input(\"enter t2: \"))\n",
    "temp = t2-t1\n",
    "\n",
    "if temp < 0:\n",
    "    kelvin = temp + 237\n",
    "    if kelvin > 500:\n",
    "        print(f\"{kelvin}kelvin: temperature is extremely low\")\n",
    "    elif kelvin <500:\n",
    "        print(f\"{kelvin}kelvin: temperature is moderately low\")\n",
    "        \n",
    "elif temp > 0:\n",
    "    print(f\"{temp}celcius: temperature is too high\")\n",
    "    \n",
    "else:\n",
    "    print(\"inputs not understood!!!\")"
   ]
  },
  {
   "cell_type": "markdown",
   "id": "3b535fd5",
   "metadata": {},
   "source": [
    "### Arrays\n",
    "- sort()\n",
    "- append()"
   ]
  },
  {
   "cell_type": "code",
   "execution_count": 8,
   "id": "90686ec4",
   "metadata": {},
   "outputs": [
    {
     "name": "stdout",
     "output_type": "stream",
     "text": [
      "[1, 3, 5, 10]\n"
     ]
    }
   ],
   "source": [
    "a = [1, 5, 10, 3]\n",
    "a.sort()\n",
    "print(a)"
   ]
  },
  {
   "cell_type": "code",
   "execution_count": 9,
   "id": "fb48c365",
   "metadata": {},
   "outputs": [],
   "source": [
    "b = [6, 9, 10, 11]"
   ]
  },
  {
   "cell_type": "code",
   "execution_count": 10,
   "id": "32f8cbe5",
   "metadata": {},
   "outputs": [
    {
     "name": "stdout",
     "output_type": "stream",
     "text": [
      "[1, 3, 5, 10, 6, 9, 10, 11]\n"
     ]
    }
   ],
   "source": [
    "c = a + b\n",
    "print(c)"
   ]
  },
  {
   "cell_type": "code",
   "execution_count": 11,
   "id": "7efd69ff",
   "metadata": {},
   "outputs": [
    {
     "name": "stdout",
     "output_type": "stream",
     "text": [
      "[1, 3, 5, 10, 6, 9, 10, 11, True]\n"
     ]
    }
   ],
   "source": [
    "c.append(True)\n",
    "print(c)"
   ]
  },
  {
   "cell_type": "code",
   "execution_count": 12,
   "id": "3aefa91a",
   "metadata": {},
   "outputs": [
    {
     "name": "stdout",
     "output_type": "stream",
     "text": [
      "[1, 3, 5, 10, 6, 9, 10, 11, True, [5, 10, 11]]\n"
     ]
    }
   ],
   "source": [
    "k = [5, 10, 11]\n",
    "c.append(k)\n",
    "print(c)"
   ]
  },
  {
   "cell_type": "code",
   "execution_count": 13,
   "id": "74c8b28f",
   "metadata": {},
   "outputs": [
    {
     "name": "stdout",
     "output_type": "stream",
     "text": [
      "2\n",
      "4\n",
      "7\n",
      "9\n",
      "3\n",
      "1\n"
     ]
    }
   ],
   "source": [
    "####forloops\n",
    "arr = [2, 4, 7, 9, 3, 1]\n",
    "for i in arr:\n",
    "    print(i)"
   ]
  },
  {
   "cell_type": "code",
   "execution_count": 15,
   "id": "03fbebe5",
   "metadata": {},
   "outputs": [
    {
     "name": "stdout",
     "output_type": "stream",
     "text": [
      "7\n",
      "9\n",
      "3\n",
      "1\n"
     ]
    }
   ],
   "source": [
    "for i in arr:\n",
    "    if i%2 != 0:\n",
    "        print(i)"
   ]
  },
  {
   "cell_type": "code",
   "execution_count": 16,
   "id": "ae931d6e",
   "metadata": {},
   "outputs": [
    {
     "name": "stdout",
     "output_type": "stream",
     "text": [
      "[2, 4]\n"
     ]
    }
   ],
   "source": [
    "arr1 = []\n",
    "arr2 = []\n",
    "for i in arr:\n",
    "    if i%2 != 0:\n",
    "        arr1.append(i)\n",
    "    if i%2 == 0:\n",
    "        arr2.append(i)\n",
    "print(arr2)\n",
    "                "
   ]
  },
  {
   "cell_type": "code",
   "execution_count": null,
   "id": "2eb961bb",
   "metadata": {},
   "outputs": [],
   "source": []
  }
 ],
 "metadata": {
  "kernelspec": {
   "display_name": "Python 3 (ipykernel)",
   "language": "python",
   "name": "python3"
  },
  "language_info": {
   "codemirror_mode": {
    "name": "ipython",
    "version": 3
   },
   "file_extension": ".py",
   "mimetype": "text/x-python",
   "name": "python",
   "nbconvert_exporter": "python",
   "pygments_lexer": "ipython3",
   "version": "3.9.13"
  }
 },
 "nbformat": 4,
 "nbformat_minor": 5
}
